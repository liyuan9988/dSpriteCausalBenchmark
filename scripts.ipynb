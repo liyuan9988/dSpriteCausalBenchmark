{
 "cells": [
  {
   "cell_type": "code",
   "execution_count": 16,
   "id": "7e3b3d2e",
   "metadata": {},
   "outputs": [
    {
     "name": "stdout",
     "output_type": "stream",
     "text": [
      "The autoreload extension is already loaded. To reload it, use:\n",
      "  %reload_ext autoreload\n"
     ]
    }
   ],
   "source": [
    "import sys\n",
    "sys.path.append(\"../\")\n",
    "import numpy as np\n",
    "\n",
    "%load_ext autoreload\n",
    "%autoreload 2\n",
    "\n",
    "np.set_printoptions(threshold=5, precision=5)"
   ]
  },
  {
   "cell_type": "code",
   "execution_count": 10,
   "id": "987b25a1",
   "metadata": {},
   "outputs": [],
   "source": [
    "def print_heads(**kwargs):\n",
    "    for k, v in kwargs.items():\n",
    "        print(f\"{k} = {v[:3]}\")\n",
    "    "
   ]
  },
  {
   "cell_type": "code",
   "execution_count": 38,
   "id": "8d99ac33",
   "metadata": {},
   "outputs": [
    {
     "name": "stdout",
     "output_type": "stream",
     "text": [
      "Train Data\n",
      "backdoor = [[ 0.22354  0.05703  0.17019 ... -0.16663 -0.38089 -0.26082]\n",
      " [-0.39407  0.18578 -0.9105  ...  2.37692  1.66993 -0.00677]\n",
      " [ 0.52843  0.77897  0.75911 ... -0.90418 -0.4431   0.20819]]\n",
      "treatment = [[ 0.74754]\n",
      " [ 0.71031]\n",
      " [-0.12221]]\n",
      "outcome = [[ 0.83693]\n",
      " [-0.66913]\n",
      " [ 0.43152]]\n",
      "Test Data\n",
      "treatment = [[0. ]\n",
      " [0.1]\n",
      " [0.2]]\n",
      "structural = [[0.  ]\n",
      " [0.13]\n",
      " [0.28]]\n"
     ]
    }
   ],
   "source": [
    "from src.frontdoor_backdoor import generate_colangelo_ate\n",
    "train, test = generate_colangelo_ate(100)\n",
    "\n",
    "print(\"Train Data\")\n",
    "print_heads(backdoor=train.backdoor, treatment = train.treatment, outcome = train.outcome)\n",
    "\n",
    "print(\"Test Data\")\n",
    "print_heads(treatment=test.treatment, structural = test.structural)"
   ]
  },
  {
   "cell_type": "code",
   "execution_count": 20,
   "id": "75f316a6",
   "metadata": {},
   "outputs": [
    {
     "name": "stdout",
     "output_type": "stream",
     "text": [
      "Train Data\n",
      "backdoor = [[-1.66202 -1.68405 -0.09911 ... -0.08919 -0.0896  -0.08919]\n",
      " [ 0.9707   1.04763 -0.09911 ... -0.08919 -0.0896  -0.08919]\n",
      " [ 0.38565 -0.59138 -0.09911 ... -0.08919 -0.0896  -0.08919]]\n",
      "treatment = [[0]\n",
      " [0]\n",
      " [0]]\n",
      "outcome = [[0.4035 ]\n",
      " [0.49904]\n",
      " [0.34912]]\n",
      "Test Data\n",
      "treatment = [[0]\n",
      " [1]]\n",
      "structural = [[ 0.     ]\n",
      " [-0.55445]]\n"
     ]
    }
   ],
   "source": [
    "from src.frontdoor_backdoor import generate_acic_ate\n",
    "train, test = generate_acic_ate()\n",
    "\n",
    "print(\"Train Data\")\n",
    "print_heads(backdoor=train.backdoor, treatment = train.treatment, outcome = train.outcome)\n",
    "\n",
    "print(\"Test Data\")\n",
    "print_heads(treatment=test.treatment, structural = test.structural)"
   ]
  },
  {
   "cell_type": "code",
   "execution_count": 21,
   "id": "74955629",
   "metadata": {},
   "outputs": [
    {
     "name": "stdout",
     "output_type": "stream",
     "text": [
      "Train Data\n",
      "backdoor = [[-0.5286  -0.34345  1.12855 ...  0.       0.       0.     ]\n",
      " [-1.73694 -1.802    0.38383 ...  0.       0.       0.     ]\n",
      " [-0.80745 -0.20295 -0.3609  ...  0.       0.       0.     ]]\n",
      "treatment = [[1.]\n",
      " [0.]\n",
      " [0.]]\n",
      "outcome = [[ 3.78091]\n",
      " [-2.62334]\n",
      " [-1.62267]]\n",
      "Test Data\n",
      "treatment = [[0]\n",
      " [1]]\n",
      "structural = [[-0.77517]\n",
      " [ 3.72409]]\n"
     ]
    }
   ],
   "source": [
    "from src.frontdoor_backdoor import generate_ihdp_ate\n",
    "train, test = generate_ihdp_ate()\n",
    "\n",
    "print(\"Train Data\")\n",
    "print_heads(backdoor=train.backdoor, treatment = train.treatment, outcome = train.outcome)\n",
    "\n",
    "print(\"Test Data\")\n",
    "print_heads(treatment=test.treatment, structural = test.structural)\n"
   ]
  },
  {
   "cell_type": "code",
   "execution_count": 23,
   "id": "9d72e528",
   "metadata": {},
   "outputs": [
    {
     "name": "stdout",
     "output_type": "stream",
     "text": [
      "Train Data\n",
      "backdoor = [[ 0.84275 -0.5389 ]\n",
      " [-0.13793 -0.46618]\n",
      " [ 0.0158   1.27658]]\n",
      "treatment = [[ 0.07601  0.02292  0.05301 ... -0.03202  0.17595 -0.09035]\n",
      " [-0.07353 -0.09698  0.03235 ...  0.12283  0.05997 -0.07151]\n",
      " [ 0.0705  -0.22437 -0.07529 ... -0.03745  0.04162  0.00277]]\n",
      "outcome = [[3.91007]\n",
      " [0.32579]\n",
      " [4.24666]]\n",
      "Test Data\n",
      "treatment = [[0 0 0 ... 0 0 0]\n",
      " [0 0 0 ... 0 0 0]\n",
      " [0 0 0 ... 0 0 0]]\n",
      "structural = [[0.10298]\n",
      " [0.40033]\n",
      " [1.04702]]\n"
     ]
    }
   ],
   "source": [
    "from src.frontdoor_backdoor import generate_ate_dsprite_backdoor\n",
    "train, test = generate_ate_dsprite_backdoor(n_data=100, rand_seed=42)\n",
    "\n",
    "print(\"Train Data\")\n",
    "print_heads(backdoor=train.backdoor, treatment = train.treatment, outcome = train.outcome)\n",
    "\n",
    "print(\"Test Data\")\n",
    "print_heads(treatment=test.treatment, structural = test.structural)"
   ]
  },
  {
   "cell_type": "code",
   "execution_count": 27,
   "id": "513f1a95",
   "metadata": {},
   "outputs": [
    {
     "name": "stdout",
     "output_type": "stream",
     "text": [
      "Train Data\n",
      "frontdoor = [[14.72776]\n",
      " [22.98207]\n",
      " [ 6.64012]]\n",
      "treatment = [[ 0.06433 -0.03946 -0.00051 ...  0.04138 -0.04419 -0.15739]\n",
      " [-0.08657  0.12813  0.00748 ...  0.03317  0.01845  0.15658]\n",
      " [ 0.04485  0.13278 -0.036   ... -0.10827  0.07801  0.03129]]\n",
      "outcome = [[ 4.20926]\n",
      " [13.23138]\n",
      " [ 1.12358]]\n",
      "Test Data\n",
      "treatment_cf = [[0. 0. 0. ... 0. 0. 0.]\n",
      " [0. 0. 0. ... 0. 0. 0.]\n",
      " [0. 0. 0. ... 0. 0. 0.]]\n",
      "treatment_ac = [[0. 0. 0. ... 0. 0. 0.]\n",
      " [0. 0. 0. ... 0. 0. 0.]\n",
      " [0. 0. 0. ... 0. 0. 0.]]\n",
      "target = [[4.70475]\n",
      " [4.69068]\n",
      " [4.70146]]\n"
     ]
    }
   ],
   "source": [
    "from src.frontdoor_backdoor import generate_att_dsprite_frontdoor\n",
    "train, test = generate_att_dsprite_frontdoor(n_data=100, rand_seed=42)\n",
    "\n",
    "print(\"Train Data\")\n",
    "print_heads(frontdoor=train.frontdoor, treatment = train.treatment, outcome = train.outcome)\n",
    "\n",
    "print(\"Test Data\")\n",
    "print_heads(treatment_cf=test.treatment_cf, treatment_ac=test.treatment_ac, target = test.target)"
   ]
  },
  {
   "cell_type": "code",
   "execution_count": 28,
   "id": "ebeaaf12",
   "metadata": {},
   "outputs": [
    {
     "name": "stdout",
     "output_type": "stream",
     "text": [
      "Train Data\n",
      "instrumental = [[ 1.06598  1.99908  1.     ]\n",
      " [ 0.15705  0.07362  6.     ]\n",
      " [-0.15863  7.86924  5.     ]]\n",
      "treatment = [[14.36595]\n",
      " [17.445  ]\n",
      " [18.38008]]\n",
      "outcome = [[  -9.7841 ]\n",
      " [-267.15419]\n",
      " [-248.83945]]\n",
      "Test Data\n",
      "treatment = [[10.]\n",
      " [10.]\n",
      " [10.]]\n",
      "structrual = [[ 41.66667]\n",
      " [  3.33333]\n",
      " [-35.     ]]\n"
     ]
    }
   ],
   "source": [
    "from src.instrumental_variable import generate_demand_design_iv\n",
    "\n",
    "train, test = generate_demand_design_iv(data_size=100, rho=0.5, rand_seed=42)\n",
    "\n",
    "print(\"Train Data\")\n",
    "print_heads(instrumental=train.instrumental , treatment = train.treatment, outcome = train.outcome)\n",
    "\n",
    "print(\"Test Data\")\n",
    "print_heads(treatment=test.treatment, structrual = test.structural)"
   ]
  },
  {
   "cell_type": "code",
   "execution_count": 29,
   "id": "f149998e",
   "metadata": {},
   "outputs": [
    {
     "name": "stderr",
     "output_type": "stream",
     "text": [
      "1.7%"
     ]
    },
    {
     "name": "stdout",
     "output_type": "stream",
     "text": [
      "Downloading http://yann.lecun.com/exdb/mnist/train-images-idx3-ubyte.gz\n",
      "Downloading http://yann.lecun.com/exdb/mnist/train-images-idx3-ubyte.gz to ./data/MNIST/raw/train-images-idx3-ubyte.gz\n"
     ]
    },
    {
     "name": "stderr",
     "output_type": "stream",
     "text": [
      "100.0%\n"
     ]
    },
    {
     "name": "stdout",
     "output_type": "stream",
     "text": [
      "Extracting ./data/MNIST/raw/train-images-idx3-ubyte.gz to ./data/MNIST/raw\n",
      "\n",
      "Downloading http://yann.lecun.com/exdb/mnist/train-labels-idx1-ubyte.gz\n"
     ]
    },
    {
     "name": "stderr",
     "output_type": "stream",
     "text": [
      "\r",
      "100.0%"
     ]
    },
    {
     "name": "stdout",
     "output_type": "stream",
     "text": [
      "Downloading http://yann.lecun.com/exdb/mnist/train-labels-idx1-ubyte.gz to ./data/MNIST/raw/train-labels-idx1-ubyte.gz\n",
      "Extracting ./data/MNIST/raw/train-labels-idx1-ubyte.gz to ./data/MNIST/raw\n",
      "\n",
      "Downloading http://yann.lecun.com/exdb/mnist/t10k-images-idx3-ubyte.gz\n",
      "Downloading http://yann.lecun.com/exdb/mnist/t10k-images-idx3-ubyte.gz to ./data/MNIST/raw/t10k-images-idx3-ubyte.gz\n"
     ]
    },
    {
     "name": "stderr",
     "output_type": "stream",
     "text": [
      "\n",
      "100.0%\n",
      "100.0%\n"
     ]
    },
    {
     "name": "stdout",
     "output_type": "stream",
     "text": [
      "Extracting ./data/MNIST/raw/t10k-images-idx3-ubyte.gz to ./data/MNIST/raw\n",
      "\n",
      "Downloading http://yann.lecun.com/exdb/mnist/t10k-labels-idx1-ubyte.gz\n",
      "Downloading http://yann.lecun.com/exdb/mnist/t10k-labels-idx1-ubyte.gz to ./data/MNIST/raw/t10k-labels-idx1-ubyte.gz\n",
      "Extracting ./data/MNIST/raw/t10k-labels-idx1-ubyte.gz to ./data/MNIST/raw\n",
      "\n",
      "Train Data\n",
      "instrumental = [[ 1.06598  1.99908  0.      ...  0.       0.       0.     ]\n",
      " [ 0.15705  0.07362  0.      ...  0.       0.       0.     ]\n",
      " [-0.15863  7.86924  0.      ...  0.       0.       0.     ]]\n",
      "treatment = [[14.36595]\n",
      " [17.445  ]\n",
      " [18.38008]]\n",
      "outcome = [[  -9.7841 ]\n",
      " [-267.15419]\n",
      " [-248.83945]]\n",
      "Test Data\n",
      "treatment = [[10.]\n",
      " [10.]\n",
      " [10.]]\n",
      "structrual = [[ 41.66667]\n",
      " [  3.33333]\n",
      " [-35.     ]]\n"
     ]
    }
   ],
   "source": [
    "from src.instrumental_variable import generate_demand_design_image_iv\n",
    "\n",
    "train, test = generate_demand_design_image_iv(data_size=100, rho=0.5, rand_seed=42)\n",
    "\n",
    "print(\"Train Data\")\n",
    "print_heads(instrumental=train.instrumental , treatment = train.treatment, outcome = train.outcome)\n",
    "\n",
    "print(\"Test Data\")\n",
    "print_heads(treatment=test.treatment, structrual = test.structural)"
   ]
  },
  {
   "cell_type": "code",
   "execution_count": 30,
   "id": "afe6c46f",
   "metadata": {},
   "outputs": [
    {
     "name": "stdout",
     "output_type": "stream",
     "text": [
      "Train Data\n",
      "instrumental = [[0.7     2.2555  0.06452]\n",
      " [1.      5.31654 0.77419]\n",
      " [0.7     0.      0.64516]]\n",
      "treatment = [[ 0.06433 -0.03946 -0.00051 ...  0.04138 -0.04419 -0.15739]\n",
      " [-0.08657  0.12813  0.00748 ...  0.03317  0.01845  0.15658]\n",
      " [ 0.04485  0.13278 -0.036   ... -0.10827  0.07801  0.03129]]\n",
      "outcome = [[ 6.42653]\n",
      " [-2.17333]\n",
      " [ 6.15283]]\n",
      "Test Data\n",
      "treatment = [[0 0 0 ... 0 0 0]\n",
      " [0 0 0 ... 0 0 0]\n",
      " [0 0 0 ... 0 0 0]]\n",
      "structrual = [[-4.11484]\n",
      " [-4.14043]\n",
      " [-4.23872]]\n"
     ]
    }
   ],
   "source": [
    "from src.instrumental_variable import generate_dsprite_iv\n",
    "\n",
    "train, test = generate_dsprite_iv(data_size=100, rand_seed=42)\n",
    "\n",
    "print(\"Train Data\")\n",
    "print_heads(instrumental=train.instrumental , treatment = train.treatment, outcome = train.outcome)\n",
    "\n",
    "print(\"Test Data\")\n",
    "print_heads(treatment=test.treatment, structrual = test.structural)"
   ]
  },
  {
   "cell_type": "code",
   "execution_count": 34,
   "id": "cfa3595d",
   "metadata": {},
   "outputs": [
    {
     "name": "stdout",
     "output_type": "stream",
     "text": [
      "Train Data\n",
      "outcome = [[4.70627]\n",
      " [4.82606]\n",
      " [4.81453]]\n",
      "outcome_proxy = [[2.65765 3.08338 2.76897]\n",
      " [3.12341 3.4428  3.27097]\n",
      " [2.8677  3.20294 2.79457]]\n",
      "treatment_proxy = [[4.13238 4.43279 3.40635 3.84175]\n",
      " [4.28773 4.54606 3.38325 3.87135]\n",
      " [4.02018 4.27992 3.34047 3.71051]]\n",
      "treatment = [[0.09612]\n",
      " [0.07356]\n",
      " [0.04735]]\n",
      "Test Data\n",
      "treatment = [[-0.49  ]\n",
      " [-0.4599]\n",
      " [-0.4298]]\n",
      "structrual = [[4.79221]\n",
      " [4.79221]\n",
      " [4.79221]]\n"
     ]
    }
   ],
   "source": [
    "from src.proxy_causal import generate_deaner_experiment_pv\n",
    "\n",
    "train, test = generate_deaner_experiment_pv(\"IM\", 0)\n",
    "\n",
    "print(\"Train Data\")\n",
    "print_heads(outcome=train.outcome, outcome_proxy=train.outcome_proxy, treatment_proxy=train.treatment_proxy,\n",
    "           treatment=train.treatment)\n",
    "\n",
    "print(\"Test Data\")\n",
    "print_heads(treatment=test.treatment, structrual = test.structural)"
   ]
  },
  {
   "cell_type": "code",
   "execution_count": 35,
   "id": "369d7cd6",
   "metadata": {},
   "outputs": [
    {
     "name": "stdout",
     "output_type": "stream",
     "text": [
      "Train Data\n",
      "outcome = [[30.98854]\n",
      " [36.48151]\n",
      " [40.8463 ]]\n",
      "outcome_proxy = [[26.36979]\n",
      " [21.87639]\n",
      " [27.57243]]\n",
      "treatment_proxy = [[-2.85763 -1.77662]\n",
      " [ 0.58304  0.33833]\n",
      " [ 1.0119   1.27055]]\n",
      "treatment = [[31.57613]\n",
      " [24.10784]\n",
      " [27.69214]]\n",
      "Test Data\n",
      "treatment = [[10.     ]\n",
      " [12.22222]\n",
      " [14.44444]]\n",
      "structrual = [[56.43016]\n",
      " [61.29142]\n",
      " [63.48692]]\n"
     ]
    }
   ],
   "source": [
    "from src.proxy_causal import generate_demand_pv\n",
    "\n",
    "train, test = generate_demand_pv(100, 0)\n",
    "\n",
    "print(\"Train Data\")\n",
    "print_heads(outcome=train.outcome, outcome_proxy=train.outcome_proxy, treatment_proxy=train.treatment_proxy,\n",
    "           treatment=train.treatment)\n",
    "\n",
    "print(\"Test Data\")\n",
    "print_heads(treatment=test.treatment, structrual = test.structural)"
   ]
  },
  {
   "cell_type": "code",
   "execution_count": 37,
   "id": "e1ecad21",
   "metadata": {},
   "outputs": [
    {
     "name": "stdout",
     "output_type": "stream",
     "text": [
      "Train Data\n",
      "outcome = [[-1.26951]\n",
      " [-1.60333]\n",
      " [-1.16874]]\n",
      "outcome_proxy = [[-0.14685  0.00391  0.039   ...  0.04782 -0.15677 -0.05631]\n",
      " [ 0.00832 -0.03239 -0.08548 ... -0.03691  0.02167 -0.04946]\n",
      " [-0.0952  -0.02689  0.069   ... -0.01942  0.04945 -0.03168]]\n",
      "treatment_proxy = [[0.6     0.64443 0.87097]\n",
      " [0.7     0.      0.64516]\n",
      " [0.6     0.64443 0.51613]]\n",
      "treatment = [[-0.05857 -0.04726  0.05863 ...  0.00511 -0.13352  0.10918]\n",
      " [ 0.04071 -0.11348 -0.09135 ... -0.05225 -0.05065 -0.09085]\n",
      " [ 0.12819  0.04574 -0.12016 ... -0.01776  0.1686  -0.03412]]\n",
      "Test Data\n",
      "treatment = [[0 0 0 ... 0 0 0]\n",
      " [0 0 0 ... 0 0 0]\n",
      " [0 0 0 ... 0 0 0]]\n",
      "structrual = [[-4.11484]\n",
      " [-4.14043]\n",
      " [-4.23872]]\n"
     ]
    }
   ],
   "source": [
    "from src.proxy_causal import generate_dsprite_pv\n",
    "\n",
    "train, test = generate_dsprite_pv(100, 0)\n",
    "\n",
    "print(\"Train Data\")\n",
    "print_heads(outcome=train.outcome, outcome_proxy=train.outcome_proxy, treatment_proxy=train.treatment_proxy,\n",
    "           treatment=train.treatment)\n",
    "\n",
    "print(\"Test Data\")\n",
    "print_heads(treatment=test.treatment, structrual = test.structural)"
   ]
  },
  {
   "cell_type": "code",
   "execution_count": null,
   "id": "e5d40d3d",
   "metadata": {},
   "outputs": [],
   "source": []
  }
 ],
 "metadata": {
  "kernelspec": {
   "display_name": "Python 3 (ipykernel)",
   "language": "python",
   "name": "python3"
  },
  "language_info": {
   "codemirror_mode": {
    "name": "ipython",
    "version": 3
   },
   "file_extension": ".py",
   "mimetype": "text/x-python",
   "name": "python",
   "nbconvert_exporter": "python",
   "pygments_lexer": "ipython3",
   "version": "3.9.10"
  }
 },
 "nbformat": 4,
 "nbformat_minor": 5
}
